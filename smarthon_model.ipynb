{
  "nbformat": 4,
  "nbformat_minor": 0,
  "metadata": {
    "colab": {
      "provenance": [],
      "mount_file_id": "1WQizJA62WdDhzSmbi6-9pt44C94DGhdz",
      "authorship_tag": "ABX9TyNs2bco9LLpnM6w/Cp6TEv6",
      "include_colab_link": true
    },
    "kernelspec": {
      "name": "python3",
      "display_name": "Python 3"
    },
    "language_info": {
      "name": "python"
    }
  },
  "cells": [
    {
      "cell_type": "markdown",
      "metadata": {
        "id": "view-in-github",
        "colab_type": "text"
      },
      "source": [
        "<a href=\"https://colab.research.google.com/github/parkjh21c/ML-DL/blob/main/smarthon_model.ipynb\" target=\"_parent\"><img src=\"https://colab.research.google.com/assets/colab-badge.svg\" alt=\"Open In Colab\"/></a>"
      ]
    },
    {
      "cell_type": "code",
      "execution_count": 195,
      "metadata": {
        "colab": {
          "base_uri": "https://localhost:8080/",
          "height": 718
        },
        "id": "zBgtPtUMP_iC",
        "outputId": "74e904cd-43ca-42c9-92f7-579c15c4f2da"
      },
      "outputs": [
        {
          "output_type": "execute_result",
          "data": {
            "text/plain": [
              "                종가     대비   등락률      시가      고가      저가      거래량  \\\n",
              "일자                                                                 \n",
              "2023-01-02   76138      0  0.00   76552   78621   75000   691041   \n",
              "2023-01-03   73862  -2276 -2.99   76138   76966   72414   851220   \n",
              "2023-01-04   74276    414  0.56   74069   74586   71586   555372   \n",
              "2023-01-05   69103  -5173 -6.96   74379   74897   67862  1516452   \n",
              "2023-01-06   69310    207  0.30   68276   70552   68069   528494   \n",
              "...            ...    ...   ...     ...     ...     ...      ...   \n",
              "2024-12-23  326000  21000  6.89  306500  328500  306500   336668   \n",
              "2024-12-24  324000  -2000 -0.61  329000  330000  320500   179574   \n",
              "2024-12-26  323500   -500 -0.15  324000  327000  316500   186277   \n",
              "2024-12-27  319000  -4500 -1.39  321500  327500  318000   196212   \n",
              "2024-12-30  326500   7500  2.35  317000  330000  317000   204610   \n",
              "\n",
              "                    거래대금            시가총액     상장주식수  ...  선행 PER    BPS   PBR  \\\n",
              "일자                                                  ...                        \n",
              "2023-01-02   51302865100   3726370000000  50630000  ...   12.75  57134  1.29   \n",
              "2023-01-03   60766095500   3614980000000  50630000  ...   12.11  57134  1.25   \n",
              "2023-01-04   39384977200   3635230000000  50630000  ...   12.18  57134  1.26   \n",
              "2023-01-05  103072000000   3382080000000  50630000  ...   10.95  57134  1.17   \n",
              "2023-01-06   35514686400   3392210000000  50630000  ...   10.99  57134  1.17   \n",
              "...                  ...             ...       ...  ...     ...    ...   ...   \n",
              "2024-12-23  107690000000  14859500000000  45581161  ...   15.65  69773  4.67   \n",
              "2024-12-24   58184245500  14768300000000  45581161  ...   15.56  69773  4.64   \n",
              "2024-12-26   60108541000  14745500000000  45581161  ...   15.53  69773  4.64   \n",
              "2024-12-27   62966304000  14540400000000  45581161  ...   15.32  69773  4.57   \n",
              "2024-12-30   66826355000  14882200000000  45581161  ...   15.68  69773  4.68   \n",
              "\n",
              "            주당배당금  배당수익률  외국인 보유수량  외국인 지분율  외국인 한도수량  외국인 한도소진율  등락  \n",
              "일자                                                                    \n",
              "2023-01-02    700   0.95  12069472    23.84  50630000      23.84   1  \n",
              "2023-01-03    700   0.98  11960663    23.62  50630000      23.62   0  \n",
              "2023-01-04    700   0.97  11991757    23.69  50630000      23.69   1  \n",
              "2023-01-05    700   1.05  12008255    23.72  50630000      23.72   0  \n",
              "2023-01-06    700   1.04  11674802    23.06  50630000      23.06   1  \n",
              "...           ...    ...       ...      ...       ...        ...  ..  \n",
              "2024-12-23   1800   0.55  19749349    43.33  45581161      43.33   1  \n",
              "2024-12-24   1800   0.56  19822787    43.49  45581161      43.49   0  \n",
              "2024-12-26   1800   0.56  19778192    43.39  45581161      43.39   0  \n",
              "2024-12-27   1800   0.56  19801648    43.44  45581161      43.44   0  \n",
              "2024-12-30   1800   0.55  19823034    43.49  45581161      43.49   1  \n",
              "\n",
              "[489 rows x 23 columns]"
            ],
            "text/html": [
              "\n",
              "  <div id=\"df-64d62c2e-f48a-4a8c-9580-e204a70c56df\" class=\"colab-df-container\">\n",
              "    <div>\n",
              "<style scoped>\n",
              "    .dataframe tbody tr th:only-of-type {\n",
              "        vertical-align: middle;\n",
              "    }\n",
              "\n",
              "    .dataframe tbody tr th {\n",
              "        vertical-align: top;\n",
              "    }\n",
              "\n",
              "    .dataframe thead th {\n",
              "        text-align: right;\n",
              "    }\n",
              "</style>\n",
              "<table border=\"1\" class=\"dataframe\">\n",
              "  <thead>\n",
              "    <tr style=\"text-align: right;\">\n",
              "      <th></th>\n",
              "      <th>종가</th>\n",
              "      <th>대비</th>\n",
              "      <th>등락률</th>\n",
              "      <th>시가</th>\n",
              "      <th>고가</th>\n",
              "      <th>저가</th>\n",
              "      <th>거래량</th>\n",
              "      <th>거래대금</th>\n",
              "      <th>시가총액</th>\n",
              "      <th>상장주식수</th>\n",
              "      <th>...</th>\n",
              "      <th>선행 PER</th>\n",
              "      <th>BPS</th>\n",
              "      <th>PBR</th>\n",
              "      <th>주당배당금</th>\n",
              "      <th>배당수익률</th>\n",
              "      <th>외국인 보유수량</th>\n",
              "      <th>외국인 지분율</th>\n",
              "      <th>외국인 한도수량</th>\n",
              "      <th>외국인 한도소진율</th>\n",
              "      <th>등락</th>\n",
              "    </tr>\n",
              "    <tr>\n",
              "      <th>일자</th>\n",
              "      <th></th>\n",
              "      <th></th>\n",
              "      <th></th>\n",
              "      <th></th>\n",
              "      <th></th>\n",
              "      <th></th>\n",
              "      <th></th>\n",
              "      <th></th>\n",
              "      <th></th>\n",
              "      <th></th>\n",
              "      <th></th>\n",
              "      <th></th>\n",
              "      <th></th>\n",
              "      <th></th>\n",
              "      <th></th>\n",
              "      <th></th>\n",
              "      <th></th>\n",
              "      <th></th>\n",
              "      <th></th>\n",
              "      <th></th>\n",
              "      <th></th>\n",
              "    </tr>\n",
              "  </thead>\n",
              "  <tbody>\n",
              "    <tr>\n",
              "      <th>2023-01-02</th>\n",
              "      <td>76138</td>\n",
              "      <td>0</td>\n",
              "      <td>0.00</td>\n",
              "      <td>76552</td>\n",
              "      <td>78621</td>\n",
              "      <td>75000</td>\n",
              "      <td>691041</td>\n",
              "      <td>51302865100</td>\n",
              "      <td>3726370000000</td>\n",
              "      <td>50630000</td>\n",
              "      <td>...</td>\n",
              "      <td>12.75</td>\n",
              "      <td>57134</td>\n",
              "      <td>1.29</td>\n",
              "      <td>700</td>\n",
              "      <td>0.95</td>\n",
              "      <td>12069472</td>\n",
              "      <td>23.84</td>\n",
              "      <td>50630000</td>\n",
              "      <td>23.84</td>\n",
              "      <td>1</td>\n",
              "    </tr>\n",
              "    <tr>\n",
              "      <th>2023-01-03</th>\n",
              "      <td>73862</td>\n",
              "      <td>-2276</td>\n",
              "      <td>-2.99</td>\n",
              "      <td>76138</td>\n",
              "      <td>76966</td>\n",
              "      <td>72414</td>\n",
              "      <td>851220</td>\n",
              "      <td>60766095500</td>\n",
              "      <td>3614980000000</td>\n",
              "      <td>50630000</td>\n",
              "      <td>...</td>\n",
              "      <td>12.11</td>\n",
              "      <td>57134</td>\n",
              "      <td>1.25</td>\n",
              "      <td>700</td>\n",
              "      <td>0.98</td>\n",
              "      <td>11960663</td>\n",
              "      <td>23.62</td>\n",
              "      <td>50630000</td>\n",
              "      <td>23.62</td>\n",
              "      <td>0</td>\n",
              "    </tr>\n",
              "    <tr>\n",
              "      <th>2023-01-04</th>\n",
              "      <td>74276</td>\n",
              "      <td>414</td>\n",
              "      <td>0.56</td>\n",
              "      <td>74069</td>\n",
              "      <td>74586</td>\n",
              "      <td>71586</td>\n",
              "      <td>555372</td>\n",
              "      <td>39384977200</td>\n",
              "      <td>3635230000000</td>\n",
              "      <td>50630000</td>\n",
              "      <td>...</td>\n",
              "      <td>12.18</td>\n",
              "      <td>57134</td>\n",
              "      <td>1.26</td>\n",
              "      <td>700</td>\n",
              "      <td>0.97</td>\n",
              "      <td>11991757</td>\n",
              "      <td>23.69</td>\n",
              "      <td>50630000</td>\n",
              "      <td>23.69</td>\n",
              "      <td>1</td>\n",
              "    </tr>\n",
              "    <tr>\n",
              "      <th>2023-01-05</th>\n",
              "      <td>69103</td>\n",
              "      <td>-5173</td>\n",
              "      <td>-6.96</td>\n",
              "      <td>74379</td>\n",
              "      <td>74897</td>\n",
              "      <td>67862</td>\n",
              "      <td>1516452</td>\n",
              "      <td>103072000000</td>\n",
              "      <td>3382080000000</td>\n",
              "      <td>50630000</td>\n",
              "      <td>...</td>\n",
              "      <td>10.95</td>\n",
              "      <td>57134</td>\n",
              "      <td>1.17</td>\n",
              "      <td>700</td>\n",
              "      <td>1.05</td>\n",
              "      <td>12008255</td>\n",
              "      <td>23.72</td>\n",
              "      <td>50630000</td>\n",
              "      <td>23.72</td>\n",
              "      <td>0</td>\n",
              "    </tr>\n",
              "    <tr>\n",
              "      <th>2023-01-06</th>\n",
              "      <td>69310</td>\n",
              "      <td>207</td>\n",
              "      <td>0.30</td>\n",
              "      <td>68276</td>\n",
              "      <td>70552</td>\n",
              "      <td>68069</td>\n",
              "      <td>528494</td>\n",
              "      <td>35514686400</td>\n",
              "      <td>3392210000000</td>\n",
              "      <td>50630000</td>\n",
              "      <td>...</td>\n",
              "      <td>10.99</td>\n",
              "      <td>57134</td>\n",
              "      <td>1.17</td>\n",
              "      <td>700</td>\n",
              "      <td>1.04</td>\n",
              "      <td>11674802</td>\n",
              "      <td>23.06</td>\n",
              "      <td>50630000</td>\n",
              "      <td>23.06</td>\n",
              "      <td>1</td>\n",
              "    </tr>\n",
              "    <tr>\n",
              "      <th>...</th>\n",
              "      <td>...</td>\n",
              "      <td>...</td>\n",
              "      <td>...</td>\n",
              "      <td>...</td>\n",
              "      <td>...</td>\n",
              "      <td>...</td>\n",
              "      <td>...</td>\n",
              "      <td>...</td>\n",
              "      <td>...</td>\n",
              "      <td>...</td>\n",
              "      <td>...</td>\n",
              "      <td>...</td>\n",
              "      <td>...</td>\n",
              "      <td>...</td>\n",
              "      <td>...</td>\n",
              "      <td>...</td>\n",
              "      <td>...</td>\n",
              "      <td>...</td>\n",
              "      <td>...</td>\n",
              "      <td>...</td>\n",
              "      <td>...</td>\n",
              "    </tr>\n",
              "    <tr>\n",
              "      <th>2024-12-23</th>\n",
              "      <td>326000</td>\n",
              "      <td>21000</td>\n",
              "      <td>6.89</td>\n",
              "      <td>306500</td>\n",
              "      <td>328500</td>\n",
              "      <td>306500</td>\n",
              "      <td>336668</td>\n",
              "      <td>107690000000</td>\n",
              "      <td>14859500000000</td>\n",
              "      <td>45581161</td>\n",
              "      <td>...</td>\n",
              "      <td>15.65</td>\n",
              "      <td>69773</td>\n",
              "      <td>4.67</td>\n",
              "      <td>1800</td>\n",
              "      <td>0.55</td>\n",
              "      <td>19749349</td>\n",
              "      <td>43.33</td>\n",
              "      <td>45581161</td>\n",
              "      <td>43.33</td>\n",
              "      <td>1</td>\n",
              "    </tr>\n",
              "    <tr>\n",
              "      <th>2024-12-24</th>\n",
              "      <td>324000</td>\n",
              "      <td>-2000</td>\n",
              "      <td>-0.61</td>\n",
              "      <td>329000</td>\n",
              "      <td>330000</td>\n",
              "      <td>320500</td>\n",
              "      <td>179574</td>\n",
              "      <td>58184245500</td>\n",
              "      <td>14768300000000</td>\n",
              "      <td>45581161</td>\n",
              "      <td>...</td>\n",
              "      <td>15.56</td>\n",
              "      <td>69773</td>\n",
              "      <td>4.64</td>\n",
              "      <td>1800</td>\n",
              "      <td>0.56</td>\n",
              "      <td>19822787</td>\n",
              "      <td>43.49</td>\n",
              "      <td>45581161</td>\n",
              "      <td>43.49</td>\n",
              "      <td>0</td>\n",
              "    </tr>\n",
              "    <tr>\n",
              "      <th>2024-12-26</th>\n",
              "      <td>323500</td>\n",
              "      <td>-500</td>\n",
              "      <td>-0.15</td>\n",
              "      <td>324000</td>\n",
              "      <td>327000</td>\n",
              "      <td>316500</td>\n",
              "      <td>186277</td>\n",
              "      <td>60108541000</td>\n",
              "      <td>14745500000000</td>\n",
              "      <td>45581161</td>\n",
              "      <td>...</td>\n",
              "      <td>15.53</td>\n",
              "      <td>69773</td>\n",
              "      <td>4.64</td>\n",
              "      <td>1800</td>\n",
              "      <td>0.56</td>\n",
              "      <td>19778192</td>\n",
              "      <td>43.39</td>\n",
              "      <td>45581161</td>\n",
              "      <td>43.39</td>\n",
              "      <td>0</td>\n",
              "    </tr>\n",
              "    <tr>\n",
              "      <th>2024-12-27</th>\n",
              "      <td>319000</td>\n",
              "      <td>-4500</td>\n",
              "      <td>-1.39</td>\n",
              "      <td>321500</td>\n",
              "      <td>327500</td>\n",
              "      <td>318000</td>\n",
              "      <td>196212</td>\n",
              "      <td>62966304000</td>\n",
              "      <td>14540400000000</td>\n",
              "      <td>45581161</td>\n",
              "      <td>...</td>\n",
              "      <td>15.32</td>\n",
              "      <td>69773</td>\n",
              "      <td>4.57</td>\n",
              "      <td>1800</td>\n",
              "      <td>0.56</td>\n",
              "      <td>19801648</td>\n",
              "      <td>43.44</td>\n",
              "      <td>45581161</td>\n",
              "      <td>43.44</td>\n",
              "      <td>0</td>\n",
              "    </tr>\n",
              "    <tr>\n",
              "      <th>2024-12-30</th>\n",
              "      <td>326500</td>\n",
              "      <td>7500</td>\n",
              "      <td>2.35</td>\n",
              "      <td>317000</td>\n",
              "      <td>330000</td>\n",
              "      <td>317000</td>\n",
              "      <td>204610</td>\n",
              "      <td>66826355000</td>\n",
              "      <td>14882200000000</td>\n",
              "      <td>45581161</td>\n",
              "      <td>...</td>\n",
              "      <td>15.68</td>\n",
              "      <td>69773</td>\n",
              "      <td>4.68</td>\n",
              "      <td>1800</td>\n",
              "      <td>0.55</td>\n",
              "      <td>19823034</td>\n",
              "      <td>43.49</td>\n",
              "      <td>45581161</td>\n",
              "      <td>43.49</td>\n",
              "      <td>1</td>\n",
              "    </tr>\n",
              "  </tbody>\n",
              "</table>\n",
              "<p>489 rows × 23 columns</p>\n",
              "</div>\n",
              "    <div class=\"colab-df-buttons\">\n",
              "\n",
              "  <div class=\"colab-df-container\">\n",
              "    <button class=\"colab-df-convert\" onclick=\"convertToInteractive('df-64d62c2e-f48a-4a8c-9580-e204a70c56df')\"\n",
              "            title=\"Convert this dataframe to an interactive table.\"\n",
              "            style=\"display:none;\">\n",
              "\n",
              "  <svg xmlns=\"http://www.w3.org/2000/svg\" height=\"24px\" viewBox=\"0 -960 960 960\">\n",
              "    <path d=\"M120-120v-720h720v720H120Zm60-500h600v-160H180v160Zm220 220h160v-160H400v160Zm0 220h160v-160H400v160ZM180-400h160v-160H180v160Zm440 0h160v-160H620v160ZM180-180h160v-160H180v160Zm440 0h160v-160H620v160Z\"/>\n",
              "  </svg>\n",
              "    </button>\n",
              "\n",
              "  <style>\n",
              "    .colab-df-container {\n",
              "      display:flex;\n",
              "      gap: 12px;\n",
              "    }\n",
              "\n",
              "    .colab-df-convert {\n",
              "      background-color: #E8F0FE;\n",
              "      border: none;\n",
              "      border-radius: 50%;\n",
              "      cursor: pointer;\n",
              "      display: none;\n",
              "      fill: #1967D2;\n",
              "      height: 32px;\n",
              "      padding: 0 0 0 0;\n",
              "      width: 32px;\n",
              "    }\n",
              "\n",
              "    .colab-df-convert:hover {\n",
              "      background-color: #E2EBFA;\n",
              "      box-shadow: 0px 1px 2px rgba(60, 64, 67, 0.3), 0px 1px 3px 1px rgba(60, 64, 67, 0.15);\n",
              "      fill: #174EA6;\n",
              "    }\n",
              "\n",
              "    .colab-df-buttons div {\n",
              "      margin-bottom: 4px;\n",
              "    }\n",
              "\n",
              "    [theme=dark] .colab-df-convert {\n",
              "      background-color: #3B4455;\n",
              "      fill: #D2E3FC;\n",
              "    }\n",
              "\n",
              "    [theme=dark] .colab-df-convert:hover {\n",
              "      background-color: #434B5C;\n",
              "      box-shadow: 0px 1px 3px 1px rgba(0, 0, 0, 0.15);\n",
              "      filter: drop-shadow(0px 1px 2px rgba(0, 0, 0, 0.3));\n",
              "      fill: #FFFFFF;\n",
              "    }\n",
              "  </style>\n",
              "\n",
              "    <script>\n",
              "      const buttonEl =\n",
              "        document.querySelector('#df-64d62c2e-f48a-4a8c-9580-e204a70c56df button.colab-df-convert');\n",
              "      buttonEl.style.display =\n",
              "        google.colab.kernel.accessAllowed ? 'block' : 'none';\n",
              "\n",
              "      async function convertToInteractive(key) {\n",
              "        const element = document.querySelector('#df-64d62c2e-f48a-4a8c-9580-e204a70c56df');\n",
              "        const dataTable =\n",
              "          await google.colab.kernel.invokeFunction('convertToInteractive',\n",
              "                                                    [key], {});\n",
              "        if (!dataTable) return;\n",
              "\n",
              "        const docLinkHtml = 'Like what you see? Visit the ' +\n",
              "          '<a target=\"_blank\" href=https://colab.research.google.com/notebooks/data_table.ipynb>data table notebook</a>'\n",
              "          + ' to learn more about interactive tables.';\n",
              "        element.innerHTML = '';\n",
              "        dataTable['output_type'] = 'display_data';\n",
              "        await google.colab.output.renderOutput(dataTable, element);\n",
              "        const docLink = document.createElement('div');\n",
              "        docLink.innerHTML = docLinkHtml;\n",
              "        element.appendChild(docLink);\n",
              "      }\n",
              "    </script>\n",
              "  </div>\n",
              "\n",
              "\n",
              "<div id=\"df-c89630c1-c374-48a9-90ae-121024ae3061\">\n",
              "  <button class=\"colab-df-quickchart\" onclick=\"quickchart('df-c89630c1-c374-48a9-90ae-121024ae3061')\"\n",
              "            title=\"Suggest charts\"\n",
              "            style=\"display:none;\">\n",
              "\n",
              "<svg xmlns=\"http://www.w3.org/2000/svg\" height=\"24px\"viewBox=\"0 0 24 24\"\n",
              "     width=\"24px\">\n",
              "    <g>\n",
              "        <path d=\"M19 3H5c-1.1 0-2 .9-2 2v14c0 1.1.9 2 2 2h14c1.1 0 2-.9 2-2V5c0-1.1-.9-2-2-2zM9 17H7v-7h2v7zm4 0h-2V7h2v10zm4 0h-2v-4h2v4z\"/>\n",
              "    </g>\n",
              "</svg>\n",
              "  </button>\n",
              "\n",
              "<style>\n",
              "  .colab-df-quickchart {\n",
              "      --bg-color: #E8F0FE;\n",
              "      --fill-color: #1967D2;\n",
              "      --hover-bg-color: #E2EBFA;\n",
              "      --hover-fill-color: #174EA6;\n",
              "      --disabled-fill-color: #AAA;\n",
              "      --disabled-bg-color: #DDD;\n",
              "  }\n",
              "\n",
              "  [theme=dark] .colab-df-quickchart {\n",
              "      --bg-color: #3B4455;\n",
              "      --fill-color: #D2E3FC;\n",
              "      --hover-bg-color: #434B5C;\n",
              "      --hover-fill-color: #FFFFFF;\n",
              "      --disabled-bg-color: #3B4455;\n",
              "      --disabled-fill-color: #666;\n",
              "  }\n",
              "\n",
              "  .colab-df-quickchart {\n",
              "    background-color: var(--bg-color);\n",
              "    border: none;\n",
              "    border-radius: 50%;\n",
              "    cursor: pointer;\n",
              "    display: none;\n",
              "    fill: var(--fill-color);\n",
              "    height: 32px;\n",
              "    padding: 0;\n",
              "    width: 32px;\n",
              "  }\n",
              "\n",
              "  .colab-df-quickchart:hover {\n",
              "    background-color: var(--hover-bg-color);\n",
              "    box-shadow: 0 1px 2px rgba(60, 64, 67, 0.3), 0 1px 3px 1px rgba(60, 64, 67, 0.15);\n",
              "    fill: var(--button-hover-fill-color);\n",
              "  }\n",
              "\n",
              "  .colab-df-quickchart-complete:disabled,\n",
              "  .colab-df-quickchart-complete:disabled:hover {\n",
              "    background-color: var(--disabled-bg-color);\n",
              "    fill: var(--disabled-fill-color);\n",
              "    box-shadow: none;\n",
              "  }\n",
              "\n",
              "  .colab-df-spinner {\n",
              "    border: 2px solid var(--fill-color);\n",
              "    border-color: transparent;\n",
              "    border-bottom-color: var(--fill-color);\n",
              "    animation:\n",
              "      spin 1s steps(1) infinite;\n",
              "  }\n",
              "\n",
              "  @keyframes spin {\n",
              "    0% {\n",
              "      border-color: transparent;\n",
              "      border-bottom-color: var(--fill-color);\n",
              "      border-left-color: var(--fill-color);\n",
              "    }\n",
              "    20% {\n",
              "      border-color: transparent;\n",
              "      border-left-color: var(--fill-color);\n",
              "      border-top-color: var(--fill-color);\n",
              "    }\n",
              "    30% {\n",
              "      border-color: transparent;\n",
              "      border-left-color: var(--fill-color);\n",
              "      border-top-color: var(--fill-color);\n",
              "      border-right-color: var(--fill-color);\n",
              "    }\n",
              "    40% {\n",
              "      border-color: transparent;\n",
              "      border-right-color: var(--fill-color);\n",
              "      border-top-color: var(--fill-color);\n",
              "    }\n",
              "    60% {\n",
              "      border-color: transparent;\n",
              "      border-right-color: var(--fill-color);\n",
              "    }\n",
              "    80% {\n",
              "      border-color: transparent;\n",
              "      border-right-color: var(--fill-color);\n",
              "      border-bottom-color: var(--fill-color);\n",
              "    }\n",
              "    90% {\n",
              "      border-color: transparent;\n",
              "      border-bottom-color: var(--fill-color);\n",
              "    }\n",
              "  }\n",
              "</style>\n",
              "\n",
              "  <script>\n",
              "    async function quickchart(key) {\n",
              "      const quickchartButtonEl =\n",
              "        document.querySelector('#' + key + ' button');\n",
              "      quickchartButtonEl.disabled = true;  // To prevent multiple clicks.\n",
              "      quickchartButtonEl.classList.add('colab-df-spinner');\n",
              "      try {\n",
              "        const charts = await google.colab.kernel.invokeFunction(\n",
              "            'suggestCharts', [key], {});\n",
              "      } catch (error) {\n",
              "        console.error('Error during call to suggestCharts:', error);\n",
              "      }\n",
              "      quickchartButtonEl.classList.remove('colab-df-spinner');\n",
              "      quickchartButtonEl.classList.add('colab-df-quickchart-complete');\n",
              "    }\n",
              "    (() => {\n",
              "      let quickchartButtonEl =\n",
              "        document.querySelector('#df-c89630c1-c374-48a9-90ae-121024ae3061 button');\n",
              "      quickchartButtonEl.style.display =\n",
              "        google.colab.kernel.accessAllowed ? 'block' : 'none';\n",
              "    })();\n",
              "  </script>\n",
              "</div>\n",
              "\n",
              "  <div id=\"id_da982d4b-eaf6-4568-931d-93a214a47e06\">\n",
              "    <style>\n",
              "      .colab-df-generate {\n",
              "        background-color: #E8F0FE;\n",
              "        border: none;\n",
              "        border-radius: 50%;\n",
              "        cursor: pointer;\n",
              "        display: none;\n",
              "        fill: #1967D2;\n",
              "        height: 32px;\n",
              "        padding: 0 0 0 0;\n",
              "        width: 32px;\n",
              "      }\n",
              "\n",
              "      .colab-df-generate:hover {\n",
              "        background-color: #E2EBFA;\n",
              "        box-shadow: 0px 1px 2px rgba(60, 64, 67, 0.3), 0px 1px 3px 1px rgba(60, 64, 67, 0.15);\n",
              "        fill: #174EA6;\n",
              "      }\n",
              "\n",
              "      [theme=dark] .colab-df-generate {\n",
              "        background-color: #3B4455;\n",
              "        fill: #D2E3FC;\n",
              "      }\n",
              "\n",
              "      [theme=dark] .colab-df-generate:hover {\n",
              "        background-color: #434B5C;\n",
              "        box-shadow: 0px 1px 3px 1px rgba(0, 0, 0, 0.15);\n",
              "        filter: drop-shadow(0px 1px 2px rgba(0, 0, 0, 0.3));\n",
              "        fill: #FFFFFF;\n",
              "      }\n",
              "    </style>\n",
              "    <button class=\"colab-df-generate\" onclick=\"generateWithVariable('df')\"\n",
              "            title=\"Generate code using this dataframe.\"\n",
              "            style=\"display:none;\">\n",
              "\n",
              "  <svg xmlns=\"http://www.w3.org/2000/svg\" height=\"24px\"viewBox=\"0 0 24 24\"\n",
              "       width=\"24px\">\n",
              "    <path d=\"M7,19H8.4L18.45,9,17,7.55,7,17.6ZM5,21V16.75L18.45,3.32a2,2,0,0,1,2.83,0l1.4,1.43a1.91,1.91,0,0,1,.58,1.4,1.91,1.91,0,0,1-.58,1.4L9.25,21ZM18.45,9,17,7.55Zm-12,3A5.31,5.31,0,0,0,4.9,8.1,5.31,5.31,0,0,0,1,6.5,5.31,5.31,0,0,0,4.9,4.9,5.31,5.31,0,0,0,6.5,1,5.31,5.31,0,0,0,8.1,4.9,5.31,5.31,0,0,0,12,6.5,5.46,5.46,0,0,0,6.5,12Z\"/>\n",
              "  </svg>\n",
              "    </button>\n",
              "    <script>\n",
              "      (() => {\n",
              "      const buttonEl =\n",
              "        document.querySelector('#id_da982d4b-eaf6-4568-931d-93a214a47e06 button.colab-df-generate');\n",
              "      buttonEl.style.display =\n",
              "        google.colab.kernel.accessAllowed ? 'block' : 'none';\n",
              "\n",
              "      buttonEl.onclick = () => {\n",
              "        google.colab.notebook.generateWithVariable('df');\n",
              "      }\n",
              "      })();\n",
              "    </script>\n",
              "  </div>\n",
              "\n",
              "    </div>\n",
              "  </div>\n"
            ],
            "application/vnd.google.colaboratory.intrinsic+json": {
              "type": "dataframe",
              "variable_name": "df"
            }
          },
          "metadata": {},
          "execution_count": 195
        }
      ],
      "source": [
        "import pandas as pd\n",
        "import numpy as np\n",
        "\n",
        "df = pd.read_excel('/content/drive/MyDrive/Colab Notebooks/smarthon/data.xlsx')\n",
        "\n",
        "df['일자'] = pd.to_datetime(df['일자'])\n",
        "\n",
        "# 데이터 순서 뒤집고 인덱스 다시 정의\n",
        "df = df.sort_index(ascending=False)\n",
        "df = df.reset_index(drop=True)\n",
        "df = df.set_index('일자')\n",
        "\n",
        "df"
      ]
    },
    {
      "cell_type": "code",
      "source": [
        "df.info()"
      ],
      "metadata": {
        "colab": {
          "base_uri": "https://localhost:8080/"
        },
        "id": "ZW22dnOlbHY9",
        "outputId": "ae492c7e-24d5-4015-f7d5-f44457767813"
      },
      "execution_count": 196,
      "outputs": [
        {
          "output_type": "stream",
          "name": "stdout",
          "text": [
            "<class 'pandas.core.frame.DataFrame'>\n",
            "DatetimeIndex: 489 entries, 2023-01-02 to 2024-12-30\n",
            "Data columns (total 23 columns):\n",
            " #   Column     Non-Null Count  Dtype  \n",
            "---  ------     --------------  -----  \n",
            " 0   종가         489 non-null    int64  \n",
            " 1   대비         489 non-null    int64  \n",
            " 2   등락률        489 non-null    float64\n",
            " 3   시가         489 non-null    int64  \n",
            " 4   고가         489 non-null    int64  \n",
            " 5   저가         489 non-null    int64  \n",
            " 6   거래량        489 non-null    int64  \n",
            " 7   거래대금       489 non-null    int64  \n",
            " 8   시가총액       489 non-null    int64  \n",
            " 9   상장주식수      489 non-null    int64  \n",
            " 10  EPS        489 non-null    int64  \n",
            " 11  PER        489 non-null    float64\n",
            " 12  선행 EPS     489 non-null    int64  \n",
            " 13  선행 PER     489 non-null    float64\n",
            " 14  BPS        489 non-null    int64  \n",
            " 15  PBR        489 non-null    float64\n",
            " 16  주당배당금      489 non-null    int64  \n",
            " 17  배당수익률      489 non-null    float64\n",
            " 18  외국인 보유수량   489 non-null    int64  \n",
            " 19  외국인 지분율    489 non-null    float64\n",
            " 20  외국인 한도수량   489 non-null    int64  \n",
            " 21  외국인 한도소진율  489 non-null    float64\n",
            " 22  등락         489 non-null    int64  \n",
            "dtypes: float64(7), int64(16)\n",
            "memory usage: 91.7 KB\n"
          ]
        }
      ]
    },
    {
      "cell_type": "code",
      "source": [
        "import matplotlib.pyplot as plt\n",
        "import matplotlib.dates as mdates\n",
        "\n",
        "\n",
        "plt.figure(figsize=(12,6))\n",
        "plt.plot(df.index, df['종가'])\n",
        "\n",
        "plt.xlabel('Date')\n",
        "plt.ylabel('Price($)')\n",
        "\n",
        "# x축 범위 설정\n",
        "plt.xlim(pd.Timestamp('2023-01-01'), pd.Timestamp('2024-12-31'))\n",
        "\n",
        "# x축 눈금 설정\n",
        "plt.gca().xaxis.set_major_locator(mdates.MonthLocator())\n",
        "plt.gca().xaxis.set_major_formatter(mdates.DateFormatter('%Y-%m'))\n",
        "\n",
        "# x축 레이블 회전\n",
        "plt.xticks(rotation=45)\n",
        "\n",
        "plt.yticks([50000, 100000, 150000, 200000, 250000, 300000, 350000, 400000, 450000])\n",
        "\n",
        "plt.show()"
      ],
      "metadata": {
        "colab": {
          "base_uri": "https://localhost:8080/",
          "height": 584
        },
        "id": "9HjxC6NUUnSo",
        "outputId": "33da83f2-8b76-4e0e-f072-3b593b930449"
      },
      "execution_count": 197,
      "outputs": [
        {
          "output_type": "display_data",
          "data": {
            "text/plain": [
              "<Figure size 1200x600 with 1 Axes>"
            ],
            "image/png": "[encoded data removed]"
          },
          "metadata": {}
        }
      ]
    },
    {
      "cell_type": "markdown",
      "source": [
        "LSTM + 랜덤포레스트"
      ],
      "metadata": {
        "id": "c_39FAhj36Hk"
      }
    },
    {
      "cell_type": "code",
      "source": [
        "from sklearn.ensemble import RandomForestRegressor\n",
        "from sklearn.model_selection import train_test_split\n",
        "from sklearn.metrics import mean_squared_error\n",
        "from tensorflow.keras.utils import to_categorical\n",
        "\n",
        "target_column = df.columns[-1]\n",
        "\n",
        "X = df.drop(target_column, axis=1)\n",
        "y = df[target_column]\n",
        "\n",
        "X_train, X_test, y_train, y_test = train_test_split(X, y, test_size=0.2, shuffle=False)\n"
      ],
      "metadata": {
        "id": "ZRZG3E9YW6Xt"
      },
      "execution_count": 198,
      "outputs": []
    },
    {
      "cell_type": "code",
      "source": [
        "from sklearn.ensemble import RandomForestClassifier\n",
        "from sklearn.preprocessing import StandardScaler\n",
        "\n",
        "# 랜덤 포레스트\n",
        "rf = RandomForestClassifier(n_estimators=100, random_state=42)\n",
        "rf.fit(X_train, y_train)\n",
        "\n",
        "# 중요한 특징 선택\n",
        "important_features = rf.feature_importances_"
      ],
      "metadata": {
        "id": "5vMtWmC33FhU"
      },
      "execution_count": 199,
      "outputs": []
    },
    {
      "cell_type": "markdown",
      "source": [
        "특징들 비교"
      ],
      "metadata": {
        "id": "Ln46WDoDLDfw"
      }
    },
    {
      "cell_type": "code",
      "source": [
        "plt.figure(figsize=(12,6))\n",
        "plt.bar(important_features.argsort(), important_features[important_features.argsort()])\n",
        "plt.xticks(np.arange(len(important_features)))\n",
        "plt.xlabel('Feature Index')\n",
        "plt.ylabel('Importance')\n",
        "plt.title('Feature Importance')\n",
        "plt.show()"
      ],
      "metadata": {
        "colab": {
          "base_uri": "https://localhost:8080/",
          "height": 564
        },
        "id": "fP_xtVlYRCTP",
        "outputId": "34bb5d02-49e5-4709-bdda-6baf195b93c6"
      },
      "execution_count": 200,
      "outputs": [
        {
          "output_type": "display_data",
          "data": {
            "text/plain": [
              "<Figure size 1200x600 with 1 Axes>"
            ],
            "image/png": "[encoded data removed]"
          },
          "metadata": {}
        }
      ]
    },
    {
      "cell_type": "markdown",
      "source": [
        "대비 등락률 => 부호 때문에 높은 연관성\n"
      ],
      "metadata": {
        "id": "mVdGwmcqTGPf"
      }
    },
    {
      "cell_type": "code",
      "source": [
        "plt.figure(figsize=(12,6))\n",
        "plt.bar(important_features.argsort(), important_features[important_features.argsort()])\n",
        "plt.xticks(np.arange(len(important_features)))\n",
        "plt.ylim([0,0.025])\n",
        "plt.xlabel('Feature Index')\n",
        "plt.ylabel('Importance')\n",
        "plt.title('Feature Importance')\n",
        "plt.show()"
      ],
      "metadata": {
        "colab": {
          "base_uri": "https://localhost:8080/",
          "height": 564
        },
        "id": "5vF0KxU1OJL5",
        "outputId": "99d8941b-3f0a-4a0a-b46e-4f9815f73c48"
      },
      "execution_count": 201,
      "outputs": [
        {
          "output_type": "display_data",
          "data": {
            "text/plain": [
              "<Figure size 1200x600 with 1 Axes>"
            ],
            "image/png": "[encoded data removed]"
          },
          "metadata": {}
        }
      ]
    },
    {
      "cell_type": "code",
      "source": [
        "top_features_indices = important_features.argsort()[-16:][::-1]\n",
        "X_selected = X_train.iloc[:,top_features_indices]\n",
        "X_selected.columns\n",
        "\n"
      ],
      "metadata": {
        "colab": {
          "base_uri": "https://localhost:8080/"
        },
        "id": "qfGvYN_dQ2wo",
        "outputId": "42b2f5b4-b1ae-4ca4-b2f8-a488873ba78e"
      },
      "execution_count": 202,
      "outputs": [
        {
          "output_type": "execute_result",
          "data": {
            "text/plain": [
              "Index(['등락률', '대비', '시가', '거래량', '거래대금', '선행 PER', 'PER', '외국인 지분율', '시가총액',\n",
              "       '외국인 보유수량', '저가', '종가', '고가', '외국인 한도소진율', 'PBR', '배당수익률'],\n",
              "      dtype='object')"
            ]
          },
          "metadata": {},
          "execution_count": 202
        }
      ]
    },
    {
      "cell_type": "markdown",
      "source": [
        "시가 총액, 상장 주식수, BPS, 주당배당금, 외국인 한도수량 은 거의 상관 없어나 아예 상관 없는걸로 보임"
      ],
      "metadata": {
        "id": "Os1Nd3hmP8Ap"
      }
    },
    {
      "cell_type": "code",
      "source": [
        "y_train.shape"
      ],
      "metadata": {
        "colab": {
          "base_uri": "https://localhost:8080/"
        },
        "id": "VmsoH99KfehX",
        "outputId": "91426640-e9f9-4e5f-cc11-c9000b20b94c"
      },
      "execution_count": 203,
      "outputs": [
        {
          "output_type": "execute_result",
          "data": {
            "text/plain": [
              "(391,)"
            ]
          },
          "metadata": {},
          "execution_count": 203
        }
      ]
    },
    {
      "cell_type": "code",
      "source": [
        "len(X_selected) == len(y_train)"
      ],
      "metadata": {
        "colab": {
          "base_uri": "https://localhost:8080/"
        },
        "id": "dAWRrPsrQatp",
        "outputId": "3029d1cb-e213-4091-b44f-b2bd8eb2d8a6"
      },
      "execution_count": 204,
      "outputs": [
        {
          "output_type": "execute_result",
          "data": {
            "text/plain": [
              "True"
            ]
          },
          "metadata": {},
          "execution_count": 204
        }
      ]
    },
    {
      "cell_type": "code",
      "source": [
        "import numpy as np\n",
        "from tensorflow.keras.models import Sequential\n",
        "from tensorflow.keras.layers import LSTM, Dense\n",
        "\n",
        "scaler = StandardScaler()\n",
        "X_scaled = scaler.fit_transform(X_train)\n",
        "X_test_scaled = scaler.fit_transform(X_test)\n",
        "\n",
        "# 시계열 데이터 생성\n",
        "def create_sequences(data, labels, sequence_length=7):\n",
        "    X, y = [], []\n",
        "    for i in range(len(data) - sequence_length):\n",
        "        X.append(data[i:i + sequence_length])\n",
        "        y.append(labels[i + sequence_length])\n",
        "    return np.array(X), np.array(y)\n",
        "\n",
        "sequence_length = 7\n",
        "X_seq, y_seq = create_sequences(X_selected, y_train, sequence_length)\n",
        "\n",
        "# 데이터 분할\n",
        "X_LSTM_train, X_LSTM_test, y_LSTM_train, y_LSTM_test = train_test_split(X_seq, y_seq, test_size=0.2, random_state=42)\n",
        "\n",
        "# y_train을 원-핫 인코딩으로 변환\n",
        "y_LSTM_train = to_categorical(y_LSTM_train, num_classes=2)  # 2개 클래스\n",
        "y_LSTM_test = to_categorical(y_LSTM_test, num_classes=2)\n",
        "\n",
        "# LSTM 모델 정의\n",
        "model = Sequential([\n",
        "    LSTM(50, activation='relu', input_shape=(sequence_length, X_LSTM_train.shape[2])),\n",
        "    Dense(2, activation='sigmoid')  #이진 분류\n",
        "])\n",
        "model.compile(optimizer='adam', loss='categorical_crossentropy', metrics=['accuracy'])\n",
        "\n",
        "# LSTM 학습\n",
        "model.fit(X_LSTM_train, y_LSTM_train, epochs=10, batch_size=32, validation_data=(X_LSTM_test, y_LSTM_test))\n"
      ],
      "metadata": {
        "colab": {
          "base_uri": "https://localhost:8080/"
        },
        "id": "JFtM7j3yR7mo",
        "outputId": "8543bcbf-8fbe-4414-d7b6-8395467169d0"
      },
      "execution_count": 205,
      "outputs": [
        {
          "output_type": "stream",
          "name": "stdout",
          "text": [
            "Epoch 1/10\n"
          ]
        },
        {
          "output_type": "stream",
          "name": "stderr",
          "text": [
            "<ipython-input-205-bdf8e74c7845>:14: FutureWarning: Series.__getitem__ treating keys as positions is deprecated. In a future version, integer keys will always be treated as labels (consistent with DataFrame behavior). To access a value by position, use `ser.iloc[pos]`\n",
            "  y.append(labels[i + sequence_length])\n",
            "/usr/local/lib/python3.10/dist-packages/keras/src/layers/rnn/rnn.py:204: UserWarning: Do not pass an `input_shape`/`input_dim` argument to a layer. When using Sequential models, prefer using an `Input(shape)` object as the first layer in the model instead.\n",
            "  super().__init__(**kwargs)\n"
          ]
        },
        {
          "output_type": "stream",
          "name": "stdout",
          "text": [
            "\u001b[1m10/10\u001b[0m \u001b[32m━━━━━━━━━━━━━━━━━━━━\u001b[0m\u001b[37m\u001b[0m \u001b[1m2s\u001b[0m 38ms/step - accuracy: 0.5619 - loss: 623534145536.0000 - val_accuracy: 0.5065 - val_loss: 523167531008.0000\n",
            "Epoch 2/10\n",
            "\u001b[1m10/10\u001b[0m \u001b[32m━━━━━━━━━━━━━━━━━━━━\u001b[0m\u001b[37m\u001b[0m \u001b[1m0s\u001b[0m 7ms/step - accuracy: 0.5409 - loss: 432400859136.0000 - val_accuracy: 0.5065 - val_loss: 305362665472.0000\n",
            "Epoch 3/10\n",
            "\u001b[1m10/10\u001b[0m \u001b[32m━━━━━━━━━━━━━━━━━━━━\u001b[0m\u001b[37m\u001b[0m \u001b[1m0s\u001b[0m 8ms/step - accuracy: 0.5454 - loss: 237494075392.0000 - val_accuracy: 0.5065 - val_loss: 97647992832.0000\n",
            "Epoch 4/10\n",
            "\u001b[1m10/10\u001b[0m \u001b[32m━━━━━━━━━━━━━━━━━━━━\u001b[0m\u001b[37m\u001b[0m \u001b[1m0s\u001b[0m 8ms/step - accuracy: 0.5178 - loss: 58748411904.0000 - val_accuracy: 0.4935 - val_loss: 41768169472.0000\n",
            "Epoch 5/10\n",
            "\u001b[1m10/10\u001b[0m \u001b[32m━━━━━━━━━━━━━━━━━━━━\u001b[0m\u001b[37m\u001b[0m \u001b[1m0s\u001b[0m 8ms/step - accuracy: 0.4664 - loss: 49817059328.0000 - val_accuracy: 0.4935 - val_loss: 20023224320.0000\n",
            "Epoch 6/10\n",
            "\u001b[1m10/10\u001b[0m \u001b[32m━━━━━━━━━━━━━━━━━━━━\u001b[0m\u001b[37m\u001b[0m \u001b[1m0s\u001b[0m 8ms/step - accuracy: 0.5228 - loss: 25080877056.0000 - val_accuracy: 0.4545 - val_loss: 15369844736.0000\n",
            "Epoch 7/10\n",
            "\u001b[1m10/10\u001b[0m \u001b[32m━━━━━━━━━━━━━━━━━━━━\u001b[0m\u001b[37m\u001b[0m \u001b[1m0s\u001b[0m 8ms/step - accuracy: 0.4372 - loss: 24969068544.0000 - val_accuracy: 0.3896 - val_loss: 13907405824.0000\n",
            "Epoch 8/10\n",
            "\u001b[1m10/10\u001b[0m \u001b[32m━━━━━━━━━━━━━━━━━━━━\u001b[0m\u001b[37m\u001b[0m \u001b[1m0s\u001b[0m 8ms/step - accuracy: 0.5230 - loss: 16783412224.0000 - val_accuracy: 0.4416 - val_loss: 16682728448.0000\n",
            "Epoch 9/10\n",
            "\u001b[1m10/10\u001b[0m \u001b[32m━━━━━━━━━━━━━━━━━━━━\u001b[0m\u001b[37m\u001b[0m \u001b[1m0s\u001b[0m 9ms/step - accuracy: 0.4860 - loss: 19107141632.0000 - val_accuracy: 0.3766 - val_loss: 14791342080.0000\n",
            "Epoch 10/10\n",
            "\u001b[1m10/10\u001b[0m \u001b[32m━━━━━━━━━━━━━━━━━━━━\u001b[0m\u001b[37m\u001b[0m \u001b[1m0s\u001b[0m 8ms/step - accuracy: 0.4745 - loss: 17984450560.0000 - val_accuracy: 0.4286 - val_loss: 16519450624.0000\n"
          ]
        },
        {
          "output_type": "execute_result",
          "data": {
            "text/plain": [
              "<keras.src.callbacks.history.History at 0x7f83999ce3e0>"
            ]
          },
          "metadata": {},
          "execution_count": 205
        }
      ]
    },
    {
      "cell_type": "code",
      "source": [
        "# LSTM으로 특징 추출\n",
        "lstm_features = model.predict(X_seq)\n",
        "\n",
        "# 랜덤 포레스트로 최종 학습\n",
        "rf_final = RandomForestClassifier(n_estimators=100, random_state=42)\n",
        "rf_final.fit(lstm_features, y_train[sequence_length:])\n",
        "\n",
        "# X_test에 대해서도 시퀀스 데이터를 만들고 LSTM을 통과시켜야 함\n",
        "X_test_selected = X_test.iloc[:, top_features_indices]\n",
        "X_test_seq, _ = create_sequences(X_test_selected, y_test, sequence_length)\n",
        "\n",
        "# LSTM을 통해 X_test 특징 추출\n",
        "lstm_features_test = model.predict(X_test_seq)\n",
        "\n",
        "# 최종 예측\n",
        "y_pred = rf_final.predict(lstm_features_test)\n"
      ],
      "metadata": {
        "colab": {
          "base_uri": "https://localhost:8080/"
        },
        "id": "rgCU3spxqAz7",
        "outputId": "feb4be9f-d2de-4fdd-ee9f-fb62e0a32d78"
      },
      "execution_count": 206,
      "outputs": [
        {
          "output_type": "stream",
          "name": "stdout",
          "text": [
            "\u001b[1m12/12\u001b[0m \u001b[32m━━━━━━━━━━━━━━━━━━━━\u001b[0m\u001b[37m\u001b[0m \u001b[1m0s\u001b[0m 2ms/step  \n",
            "\u001b[1m1/3\u001b[0m \u001b[32m━━━━━━\u001b[0m\u001b[37m━━━━━━━━━━━━━━\u001b[0m \u001b[1m0s\u001b[0m 20ms/step"
          ]
        },
        {
          "output_type": "stream",
          "name": "stderr",
          "text": [
            "<ipython-input-205-bdf8e74c7845>:14: FutureWarning: Series.__getitem__ treating keys as positions is deprecated. In a future version, integer keys will always be treated as labels (consistent with DataFrame behavior). To access a value by position, use `ser.iloc[pos]`\n",
            "  y.append(labels[i + sequence_length])\n"
          ]
        },
        {
          "output_type": "stream",
          "name": "stdout",
          "text": [
            "\u001b[1m3/3\u001b[0m \u001b[32m━━━━━━━━━━━━━━━━━━━━\u001b[0m\u001b[37m\u001b[0m \u001b[1m0s\u001b[0m 76ms/step\n"
          ]
        }
      ]
    },
    {
      "cell_type": "code",
      "source": [
        "y_pred"
      ],
      "metadata": {
        "colab": {
          "base_uri": "https://localhost:8080/"
        },
        "id": "pAhkl6SRqChr",
        "outputId": "d2d2a2f5-c48f-4e64-a83c-396ef93da41a"
      },
      "execution_count": 207,
      "outputs": [
        {
          "output_type": "execute_result",
          "data": {
            "text/plain": [
              "array([1, 1, 1, 1, 1, 1, 1, 1, 1, 1, 1, 1, 1, 1, 1, 1, 1, 1, 1, 1, 1, 1,\n",
              "       1, 1, 1, 1, 1, 1, 1, 1, 1, 1, 1, 1, 1, 1, 1, 1, 1, 1, 1, 1, 1, 1,\n",
              "       1, 1, 1, 1, 1, 1, 1, 1, 1, 1, 1, 1, 1, 1, 1, 1, 1, 1, 1, 1, 1, 1,\n",
              "       1, 1, 1, 1, 1, 1, 1, 1, 1, 1, 1, 1, 1, 1, 1, 1, 1, 1, 1, 1, 1, 1,\n",
              "       1, 1, 1])"
            ]
          },
          "metadata": {},
          "execution_count": 207
        }
      ]
    },
    {
      "cell_type": "code",
      "source": [
        "from sklearn.metrics import accuracy_score\n",
        "\n",
        "# 정확도 계산\n",
        "accuracy = accuracy_score(y_test[sequence_length:], y_pred)\n",
        "print(f\"Accuracy: {accuracy * 100:.2f}%\")\n"
      ],
      "metadata": {
        "colab": {
          "base_uri": "https://localhost:8080/"
        },
        "id": "TMctDWl8lPw2",
        "outputId": "91c52cf2-1867-4572-ef6e-976a908f0c87"
      },
      "execution_count": 208,
      "outputs": [
        {
          "output_type": "stream",
          "name": "stdout",
          "text": [
            "Accuracy: 60.44%\n"
          ]
        }
      ]
    },
    {
      "cell_type": "markdown",
      "source": [],
      "metadata": {
        "id": "AOsqC1NDpxxb"
      }
    }
  ]
}